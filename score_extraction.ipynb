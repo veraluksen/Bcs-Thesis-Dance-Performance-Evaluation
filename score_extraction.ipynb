{
  "nbformat": 4,
  "nbformat_minor": 0,
  "metadata": {
    "colab": {
      "provenance": [],
      "collapsed_sections": [
        "UvAVO8BkvHsk",
        "WKWNTiYRRejA"
      ]
    },
    "kernelspec": {
      "name": "python3",
      "display_name": "Python 3"
    },
    "language_info": {
      "name": "python"
    }
  },
  "cells": [
    {
      "cell_type": "markdown",
      "source": [
        "# Load"
      ],
      "metadata": {
        "id": "UvAVO8BkvHsk"
      }
    },
    {
      "cell_type": "code",
      "execution_count": null,
      "metadata": {
        "colab": {
          "base_uri": "https://localhost:8080/"
        },
        "id": "mbnpZgM2aL0F",
        "outputId": "2f2ed875-c199-410f-e3f4-0fb97010e868"
      },
      "outputs": [
        {
          "output_type": "stream",
          "name": "stdout",
          "text": [
            "Reading package lists... Done\n",
            "Building dependency tree       \n",
            "Reading state information... Done\n",
            "tesseract-ocr is already the newest version (4.1.1-2build2).\n",
            "0 upgraded, 0 newly installed, 0 to remove and 34 not upgraded.\n",
            "Looking in indexes: https://pypi.org/simple, https://us-python.pkg.dev/colab-wheels/public/simple/\n",
            "Requirement already satisfied: pytesseract in /usr/local/lib/python3.10/dist-packages (0.3.10)\n",
            "Requirement already satisfied: packaging>=21.3 in /usr/local/lib/python3.10/dist-packages (from pytesseract) (23.1)\n",
            "Requirement already satisfied: Pillow>=8.0.0 in /usr/local/lib/python3.10/dist-packages (from pytesseract) (8.4.0)\n"
          ]
        }
      ],
      "source": [
        "!sudo apt install tesseract-ocr\n",
        "!pip install pytesseract"
      ]
    },
    {
      "cell_type": "code",
      "source": [
        "import pytesseract\n",
        "import shutil\n",
        "import os\n",
        "import random\n",
        "try:\n",
        "    from PIL import Image\n",
        "except ImportError:\n",
        "    import Image\n",
        "import cv2\n",
        "from google.colab.patches import cv2_imshow\n",
        "import math\n",
        "import numpy as np\n",
        "import cv2\n",
        "import pandas as pd"
      ],
      "metadata": {
        "id": "QzPjtx3EaQSt"
      },
      "execution_count": null,
      "outputs": []
    },
    {
      "cell_type": "markdown",
      "source": [
        "Class for opening videos and extracting frames:"
      ],
      "metadata": {
        "id": "jZK7dLylvVBv"
      }
    },
    {
      "cell_type": "code",
      "source": [
        "class Video:\n",
        "  def __init__(self, path):\n",
        "    self.path = path\n",
        "    self.video = cv2.VideoCapture(self.path)\n",
        "    self.cur_frame = 0\n",
        "    self.fps = self.video.get(cv2.CAP_PROP_FPS)\n",
        "\n",
        "  def get_frame_id(self, minutes, seconds):\n",
        "    frame_id = int(self.fps*(minutes*60+seconds))\n",
        "    return frame_id\n",
        "\n",
        "  def set_frame(self, frame_id):\n",
        "    self.video.set(cv2.CAP_PROP_POS_FRAMES, frame_id)\n",
        "    self.cur_frame = frame_id\n",
        "\n",
        "  def get_frame(self, frame_id):\n",
        "    self.set_frame(frame_id)\n",
        "    success, frame = self.video.read()\n",
        "    return success, frame\n",
        "\n",
        "  def get_cur_frame(self):\n",
        "    success, frame = self.video.read()\n",
        "    return success, frame\n",
        "\n",
        "  def get_set_frame(self, minutes, seconds):\n",
        "    self.set_frame_time(minutes, seconds)\n",
        "    return self.get_cur_frame()\n",
        "\n",
        "  def get_timeframe(self, start_minutes, start_seconds, end_minutes, end_seconds, frame_rate):\n",
        "    n_frames = (self.get_frame_id(end_minutes, end_seconds) - self.get_frame_id(start_minutes, start_seconds)) // frame_rate\n",
        "    cur_frame_id = self.get_frame_id(start_minutes, start_seconds)\n",
        "    frame_list = []\n",
        "    for i in range(0, n_frames):\n",
        "      succes, frame = self.get_frame(cur_frame_id)\n",
        "      frame_list.append(frame)\n",
        "      cur_frame_id += frame_rate\n",
        "    return frame_list"
      ],
      "metadata": {
        "id": "nEBvHDzH2EhW"
      },
      "execution_count": null,
      "outputs": []
    },
    {
      "cell_type": "markdown",
      "source": [
        "# Extract Scores"
      ],
      "metadata": {
        "id": "0m4XUX_cRasm"
      }
    },
    {
      "cell_type": "code",
      "source": [
        "import cv2\n",
        "import pytesseract\n",
        "import pandas as pd\n",
        "\n",
        "songs = [\"americano\", \"diggin\", \"jagger\", \"pink\"]\n",
        "participants = [\"part1\", \"part2\", \"part3\", \"part4\", \"part5\", \"part6\"]\n",
        "\n",
        "# Set the frame interval\n",
        "frame_interval = 1\n",
        "\n",
        "scores = [\"X\", \"PERFECT\", \"GOOD\", \"OK\", \"YEAH\"]\n",
        "\n",
        "for song in songs:\n",
        "\n",
        "  # Load the dataframe that consists of the time intervals of the scores\n",
        "  df = pd.read_csv ('/content/drive/MyDrive/Thesis/Experiment Scores/{}.csv'.format(song))\n",
        "\n",
        "  for part in participants:\n",
        "\n",
        "    cur_frame_id = 0\n",
        "    score_list = []\n",
        "\n",
        "    print('processing: {} - {}...'.format(song, part))\n",
        "    vid = Video('/content/drive/MyDrive/Thesis/Experiment Scores/{}_{}.mp4'.format(song, part))\n",
        "\n",
        "    for index, row in df.iterrows():\n",
        "\n",
        "      start_time = row['start_time']\n",
        "      start_minute, start_second = start_time.split(':')\n",
        "\n",
        "      end_time = row['end_time']\n",
        "      end_minute, end_second = end_time.split(':')\n",
        "\n",
        "      frame_list = vid.get_timeframe(int(start_minute), float(start_second), int(end_minute), float(end_second), 1)\n",
        "\n",
        "      score_dic = {\"X\":0, \"PERFECT\":0, \"GOOD\":0, \"OK\":0, \"YEAH\":0}\n",
        "\n",
        "      # Loop through the frames\n",
        "      for frame in frame_list:\n",
        "\n",
        "          # Convert the image to grayscale\n",
        "          gray = cv2.cvtColor(frame, cv2.COLOR_BGR2GRAY)\n",
        "          grey_inv = cv2.bitwise_not(gray)\n",
        "\n",
        "          # Recognize the string using OCR\n",
        "          text = pytesseract.image_to_string(grey_inv, config='--psm 6')\n",
        "\n",
        "          # Print the recognized text\n",
        "          for score in scores:\n",
        "            if score in text.upper():\n",
        "                score_dic[score] += 1\n",
        "\n",
        "      score_dic = sorted(score_dic.items(), key=lambda x:x[1], reverse=True)\n",
        "      score_list.append(score_dic[0][0])\n",
        "      #print(index, \": \", score_dic[0][0])\n",
        "\n",
        "\n",
        "    pred_score_df = df\n",
        "    pred_score_df['score'] = score_list\n",
        "\n",
        "    pred_score_df.to_csv('/content/drive/MyDrive/Thesis/Experiment Scores/{}_{}_pred.csv'.format(song, part))\n",
        "    print('{} - {} done!'.format(song, part))"
      ],
      "metadata": {
        "id": "rJffUtD2Agdt",
        "colab": {
          "base_uri": "https://localhost:8080/"
        },
        "outputId": "f93be448-f892-4b84-bae0-7470bac0a1c7"
      },
      "execution_count": null,
      "outputs": [
        {
          "output_type": "stream",
          "name": "stdout",
          "text": [
            "processing: pink - part5...\n",
            "pink - part5 done!\n",
            "processing: pink - part6...\n",
            "pink - part6 done!\n",
            "processing: diggin - part5...\n",
            "diggin - part5 done!\n",
            "processing: diggin - part6...\n",
            "diggin - part6 done!\n"
          ]
        }
      ]
    },
    {
      "cell_type": "markdown",
      "source": [
        "# Test Accuracy"
      ],
      "metadata": {
        "id": "WKWNTiYRRejA"
      }
    },
    {
      "cell_type": "code",
      "source": [
        "import sklearn\n",
        "from sklearn.metrics import accuracy_score\n",
        "\n",
        "true_files = ['jagger_part4', 'pink_part3', 'diggin_part1', 'diggin_part2', 'americano_part1', 'americano_part3']\n",
        "all_acc = []\n",
        "\n",
        "for true in true_files:\n",
        "\n",
        "  true_scores = pd.read_csv ('/content/drive/MyDrive/Thesis/Experiment Scores/{}_true.csv'.format(true))\n",
        "  y_true = true_scores['score']\n",
        "\n",
        "  pred_scores = pd.read_csv ('/content/drive/MyDrive/Thesis/Experiment Scores/{}_pred.csv'.format(true))\n",
        "  y_pred = pred_scores['score']\n",
        "\n",
        "  acc = sklearn.metrics.accuracy_score(y_true, y_pred, normalize=True)\n",
        "  print(true, ':', acc)\n",
        "  all_acc.append(acc)\n",
        "\n",
        "av_acc = sum(all_acc) / len(all_acc)\n",
        "print('average: ', av_acc)"
      ],
      "metadata": {
        "id": "yMcfPIMoweBl"
      },
      "execution_count": null,
      "outputs": []
    }
  ]
}